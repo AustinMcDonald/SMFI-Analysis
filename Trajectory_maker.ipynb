{
 "cells": [
  {
   "cell_type": "code",
   "execution_count": 1,
   "metadata": {},
   "outputs": [],
   "source": [
    "import numpy as np\n",
    "import matplotlib.pyplot as plt\n",
    "%matplotlib inline\n",
    "import os\n",
    "import tables as tb\n",
    "\n",
    "from PIL import Image \n",
    "# Nedded for background fit\n",
    "import numpy.polynomial.polynomial as poly\n",
    "# needed for spotfinder\n",
    "import scipy.ndimage as ndimage\n",
    "import scipy.ndimage.filters as filters"
   ]
  },
  {
   "cell_type": "code",
   "execution_count": 2,
   "metadata": {},
   "outputs": [],
   "source": [
    "from SMFI_Definitions import Image_Background\n",
    "from SMFI_Definitions import Summed_Image\n",
    "from SMFI_Definitions import Spot_finder\n",
    "from SMFI_Definitions import Spot_Area\n",
    "from SMFI_Definitions import Step_fit\n",
    "from SMFI_Definitions import Line_fit\n",
    "\n",
    "class Trajectory():\n",
    "    def __init__(self):\n",
    "        name           = \"\"\n",
    "        Mean_diff      = 0 \n",
    "        Chi_Step       = 0\n",
    "        Chi_Line       = 0\n",
    "        Step_Time      = 0\n",
    "        Times          = np.array([])\n",
    "        Signal         = np.array([])\n",
    "        Signal_er      = np.array([])\n",
    "        Background     = np.array([])\n",
    "        Background_er  = np.array([])"
   ]
  },
  {
   "cell_type": "code",
   "execution_count": null,
   "metadata": {},
   "outputs": [],
   "source": []
  },
  {
   "cell_type": "code",
   "execution_count": null,
   "metadata": {},
   "outputs": [],
   "source": []
  },
  {
   "cell_type": "code",
   "execution_count": null,
   "metadata": {},
   "outputs": [],
   "source": []
  },
  {
   "cell_type": "code",
   "execution_count": 12,
   "metadata": {},
   "outputs": [],
   "source": [
    "SLIDE_LOC = \"/Users/austinmcdonald/Desktop/SMFI-Analysis/10-12-17/Ba/\"\n",
    "\n",
    "SLIDE_PATHS = [os.path.join(SLIDE_LOC, f) for f in os.listdir(SLIDE_LOC) if f.endswith(\".h5\")] \n",
    "SLIDE_NAMES = []\n",
    "for slide in SLIDE_PATHS:\n",
    "    hold = slide.split(\"/\")[-1].split(\".\")[0]\n",
    "    SLIDE_NAMES.append(hold)"
   ]
  },
  {
   "cell_type": "code",
   "execution_count": null,
   "metadata": {},
   "outputs": [],
   "source": []
  },
  {
   "cell_type": "code",
   "execution_count": 16,
   "metadata": {},
   "outputs": [
    {
     "name": "stdout",
     "output_type": "stream",
     "text": [
      "Startin on Slide1_Spot3\n",
      "found 206 spots!\n",
      "Startin on Slide1_Spot6\n",
      "found 229 spots!\n",
      "Startin on Slide1_Spot2\n",
      "found 220 spots!\n",
      "Startin on Slide2_Spot4\n",
      "found 193 spots!\n",
      "Startin on Slide3_Spot4\n",
      "found 239 spots!\n",
      "Startin on Slide2_Spot1\n",
      "found 212 spots!\n",
      "Startin on Slide3_Spot1\n",
      "found 213 spots!\n",
      "Startin on Slide2_Spot5\n",
      "found 205 spots!\n",
      "Startin on Slide3_Spot5\n",
      "found 207 spots!\n",
      "Startin on Slide2_Spot2\n",
      "found 204 spots!\n",
      "Startin on Slide3_Spot2\n",
      "found 180 spots!\n",
      "Startin on Slide2_Spot6\n",
      "found 222 spots!\n",
      "Startin on Slide2_Spot3\n",
      "found 227 spots!\n",
      "Startin on Slide3_Spot3\n",
      "found 205 spots!\n",
      "Startin on Slide1_Spot5\n",
      "found 210 spots!\n",
      "Startin on Slide1_Spot1\n",
      "found 229 spots!\n",
      "Startin on Slide1_Spot4\n",
      "found 206 spots!\n"
     ]
    }
   ],
   "source": [
    "Traject = {}\n",
    "# should be the shape of the image\n",
    "Shape = 221\n",
    "# this is the reaction of the final images it will use as a background \n",
    "Frac = 0.1\n",
    "#The order of the polynominal that will subtract the background\n",
    "PolyOrder = 2\n",
    "\n",
    "# these are for the spot finder\n",
    "# the neighborhood_size is for the nearest spot \n",
    "# threshold_sigma is now large above the mean it will look for a peak\n",
    "# EdgeCut is the boarder it will cut off the image\n",
    "neighborhood_size = 10\n",
    "threshold_sigma = 1\n",
    "EdgeCut = 10  \n",
    "\n",
    "# the number of frames in the stack\n",
    "Num_Frames=500\n",
    "\n",
    "\n",
    "for slide in SLIDE_PATHS:\n",
    "    SLIDE_NAME = slide.split(\"/\")[-1].split(\".\")[0]\n",
    "    print(\"Startin on \"+SLIDE_NAME)\n",
    "    \n",
    "    with tb.open_file(slide, mode=\"r\", title=\"test\") as tt:\n",
    "        Num_Frames = tt.root.ImageStack._v_nchildren\n",
    "        Frame_Name = []\n",
    "        for kid in tt.root.ImageStack._v_children:\n",
    "            Frame_Name.append(kid)\n",
    "\n",
    "        image_background = Image_Background(tt, Frame_Name, Num_Frames, Shape, Frac, PolyOrder)\n",
    "        summed_image = Summed_Image(tt, Frame_Name, Num_Frames, Shape, image_background)\n",
    "        spots = Spot_finder(summed_image, neighborhood_size, threshold_sigma, Shape, EdgeCut)\n",
    "        spot_area = Spot_Area(tt, Frame_Name, Num_Frames, image_background, spots)\n",
    "        \n",
    "        Num_Spots = len(spots)\n",
    "        print(\"found \"+str(Num_Spots)+\" spots!\")\n",
    "        for x in range(0,Num_Spots):\n",
    "            X = str(int(spots[x][0]))\n",
    "            Y = str(int(spots[x][1]))\n",
    "            NAME = \"X\"+X+\"_Y\"+Y\n",
    "            sig = np.array(spot_area[x::Num_Spots])[:,2]\n",
    "            bkg = np.array(spot_area[x::Num_Spots])[:,3]\n",
    "            \n",
    "            SIG = sig\n",
    "            BAK = bkg\n",
    "            ww = np.arange(0,Num_Frames)*0.5\n",
    "            sig = np.add.reduceat(SIG, np.arange(0, len(SIG), 5))\n",
    "            bak = np.add.reduceat(BAK, np.arange(0, len(BAK), 5))\n",
    "            www = np.add.reduceat(ww, np.arange(0, len(ww), 5))\n",
    "            \n",
    "            \n",
    "            times    = np.arange(0,len(sig))*2.5\n",
    "            baerry = np.sqrt(sig)\n",
    "            naerry = np.sqrt(bak)\n",
    "            coefsF = poly.polyfit(times,bak, 7)\n",
    "            ffitF  = poly.polyval(times, coefsF)\n",
    "            \n",
    "            \n",
    "            fitS = (sig-ffitF*25/56)/25\n",
    "            fitSbk = baerry/25\n",
    "            fitB = (bak-ffitF)/56\n",
    "            fitBbk = naerry/25\n",
    "            tim = times\n",
    "            Meandiff, chiStep, LT = Step_fit(tim,fitS,fitSbk)\n",
    "            chiLine     = Line_fit(tim,fitS,fitSbk)\n",
    "            \n",
    "            Trj = Trajectory()\n",
    "            Trj.name = NAME\n",
    "            Trj.Mean_diff = Meandiff\n",
    "            Trj.Chi_Step = chiStep\n",
    "            Trj.Chi_Line = chiLine\n",
    "            Trj.Step_Time = LT\n",
    "            Trj.Times = times\n",
    "            Trj.Signal = fitS\n",
    "            Trj.Signal_er = fitSbk\n",
    "            Trj.Background = fitB\n",
    "            Trj.Background_er = fitBbk\n",
    "     \n",
    "    \n",
    "            Traject[SLIDE_NAME+'/'+NAME] = Trj\n",
    "\n",
    "np.save('Trajectory.npy',Traject)"
   ]
  },
  {
   "cell_type": "code",
   "execution_count": null,
   "metadata": {},
   "outputs": [],
   "source": []
  },
  {
   "cell_type": "code",
   "execution_count": 17,
   "metadata": {},
   "outputs": [],
   "source": []
  },
  {
   "cell_type": "code",
   "execution_count": null,
   "metadata": {},
   "outputs": [],
   "source": []
  },
  {
   "cell_type": "code",
   "execution_count": null,
   "metadata": {},
   "outputs": [],
   "source": [
    "###################\n",
    "### this only runs the above for one spot if you are fo\n",
    "###################"
   ]
  },
  {
   "cell_type": "code",
   "execution_count": null,
   "metadata": {},
   "outputs": [],
   "source": [
    "tt = tb.open_file(\"/Users/austinmcdonald/Desktop/SMFI-Analysis/10-12-17/Ba/Slide1_Spot1.h5\"\n",
    "                    , mode=\"r\", title=\"test\")"
   ]
  },
  {
   "cell_type": "code",
   "execution_count": null,
   "metadata": {},
   "outputs": [],
   "source": [
    "Num_Frames = tt.root.ImageStack._v_nchildren\n",
    "Num_Frames"
   ]
  },
  {
   "cell_type": "code",
   "execution_count": null,
   "metadata": {},
   "outputs": [],
   "source": [
    "Frame_Name = []\n",
    "for kid in tt.root.ImageStack._v_children:\n",
    "    Frame_Name.append(kid)"
   ]
  },
  {
   "cell_type": "code",
   "execution_count": null,
   "metadata": {},
   "outputs": [],
   "source": [
    "aa = tt.root.ImageStack[Frame_Name[0]].read()\n",
    "len(aa)"
   ]
  },
  {
   "cell_type": "code",
   "execution_count": null,
   "metadata": {},
   "outputs": [],
   "source": [
    "Shape = len(aa)\n",
    "Frac = 0.1\n",
    "PolyOrder = 2"
   ]
  },
  {
   "cell_type": "code",
   "execution_count": null,
   "metadata": {},
   "outputs": [],
   "source": [
    "image_background = Image_Background(tt, Frame_Name, Num_Frames, Shape, Frac, PolyOrder)"
   ]
  },
  {
   "cell_type": "code",
   "execution_count": null,
   "metadata": {},
   "outputs": [],
   "source": [
    "plt.imshow(image_background)"
   ]
  },
  {
   "cell_type": "code",
   "execution_count": null,
   "metadata": {},
   "outputs": [],
   "source": []
  },
  {
   "cell_type": "code",
   "execution_count": null,
   "metadata": {},
   "outputs": [],
   "source": [
    "summed_image = Summed_Image(tt, Frame_Name, Num_Frames, Shape, image_background)"
   ]
  },
  {
   "cell_type": "code",
   "execution_count": null,
   "metadata": {},
   "outputs": [],
   "source": [
    "plt.imshow(summed_image)"
   ]
  },
  {
   "cell_type": "code",
   "execution_count": null,
   "metadata": {},
   "outputs": [],
   "source": []
  },
  {
   "cell_type": "code",
   "execution_count": null,
   "metadata": {},
   "outputs": [],
   "source": [
    "neighborhood_size = 10\n",
    "threshold_sigma = 1\n",
    "EdgeCut = 20\n",
    "spots = Spot_finder(summed_image, neighborhood_size, threshold_sigma, Shape, EdgeCut)\n",
    "len(spots)"
   ]
  },
  {
   "cell_type": "code",
   "execution_count": null,
   "metadata": {},
   "outputs": [],
   "source": []
  },
  {
   "cell_type": "code",
   "execution_count": null,
   "metadata": {},
   "outputs": [],
   "source": [
    "plt.imshow(summed_image)\n",
    "plt.scatter(spots[:,0],spots[:,1],color='darkorange',alpha=0.6)"
   ]
  },
  {
   "cell_type": "code",
   "execution_count": null,
   "metadata": {},
   "outputs": [],
   "source": []
  },
  {
   "cell_type": "code",
   "execution_count": null,
   "metadata": {},
   "outputs": [],
   "source": []
  },
  {
   "cell_type": "code",
   "execution_count": null,
   "metadata": {},
   "outputs": [],
   "source": []
  },
  {
   "cell_type": "code",
   "execution_count": null,
   "metadata": {},
   "outputs": [],
   "source": []
  },
  {
   "cell_type": "code",
   "execution_count": null,
   "metadata": {},
   "outputs": [],
   "source": []
  },
  {
   "cell_type": "code",
   "execution_count": null,
   "metadata": {},
   "outputs": [],
   "source": []
  },
  {
   "cell_type": "code",
   "execution_count": null,
   "metadata": {},
   "outputs": [],
   "source": []
  },
  {
   "cell_type": "code",
   "execution_count": null,
   "metadata": {},
   "outputs": [],
   "source": []
  },
  {
   "cell_type": "code",
   "execution_count": null,
   "metadata": {},
   "outputs": [],
   "source": [
    "SLIDE_LOC = \"/Users/austinmcdonald/Desktop/SMFI-Analysis/10-12-17/Ba/\"\n",
    "\n",
    "SLIDE_PATHS = [os.path.join(SLIDE_LOC, f) for f in os.listdir(SLIDE_LOC) if f.endswith(\".h5\")] \n",
    "SLIDE_NAMES = []\n",
    "for slide in SLIDE_PATHS:\n",
    "    hold = slide.split(\"/\")[-1].split(\".\")[0]\n",
    "    SLIDE_NAMES.append(hold)\n"
   ]
  },
  {
   "cell_type": "code",
   "execution_count": null,
   "metadata": {},
   "outputs": [],
   "source": [
    "ANA_FILE = \"/Users/austinmcdonald/Desktop/SMFI-Analysis/test_ana_full-v2.h5\"\n",
    "Shape = 221\n",
    "Frac = 0.1\n",
    "    \n",
    "with tb.open_file(ANA_FILE, mode=\"w\", title=\"test\") as testana:\n",
    "        \n",
    "    for slide in SLIDE_PATHS:\n",
    "        SLIDE_NAME = slide.split(\"/\")[-1].split(\".\")[0]\n",
    "        print(\"Startin on \"+SLIDE_NAME)\n",
    "        GroupName  = \"Spot_Info\"+\"_\"+SLIDE_NAME\n",
    "        GroupInfo  = testana.create_group(\"/\", GroupName)\n",
    "        GroupName  = \"F_trajectory\"+\"_\"+SLIDE_NAME\n",
    "        GroupF     = testana.create_group(\"/\", GroupName)\n",
    "        #GroupName  = \"Background_Area\"+\"_\"+SLIDE_NAME\n",
    "        #GroupBkg   = testana.create_group(\"/\", GroupName)\n",
    "\n",
    "        with tb.open_file(slide, mode=\"r\", title=\"test\") as tt:\n",
    "            Num_Frames = tt.root.ImageStack._v_nchildren\n",
    "            Frame_Name = []\n",
    "            for kid in tt.root.ImageStack._v_children:\n",
    "                Frame_Name.append(kid)\n",
    "\n",
    "            mm = Image_Background(Frame_Name, Num_Frames, Shape, Frac)\n",
    "            testana.create_array(GroupInfo, \"Background\", mm)\n",
    "            rr = Summed_Image(Frame_Name, Num_Frames, Shape, mm)\n",
    "            testana.create_array(GroupInfo, \"Summed\", mm)\n",
    "            aa = Spot_finder(rr,10,3,Shape,20)\n",
    "            testana.create_array(GroupInfo, \"AllPairs\", aa)\n",
    "\n",
    "            aaa = Spot_Area(Frame_Name, Num_Frames, mm, aa)\n",
    "            Num_Spots = len(aa)\n",
    "            print(\"found \"+str(Num_Spots)+\" spots!\")\n",
    "            for x in range(0,Num_Spots):\n",
    "                X = str(int(aa[x][0]))\n",
    "                Y = str(int(aa[x][1]))\n",
    "                NAME = \"X\"+X+\"_Y\"+Y\n",
    "                sig = np.array(aaa[x::Num_Spots])[:,2]\n",
    "                bkg = np.array(aaa[x::Num_Spots])[:,3]\n",
    "                stuff = np.array([sig,bkg])\n",
    "                testana.create_array(GroupF, NAME, stuff)\n",
    "        #testana.flush()\n",
    "    \n",
    "    "
   ]
  },
  {
   "cell_type": "code",
   "execution_count": null,
   "metadata": {},
   "outputs": [],
   "source": []
  },
  {
   "cell_type": "code",
   "execution_count": null,
   "metadata": {},
   "outputs": [],
   "source": []
  },
  {
   "cell_type": "code",
   "execution_count": null,
   "metadata": {},
   "outputs": [],
   "source": [
    "qq = 0\n",
    "for y in range(0,len(ttt)):\n",
    "#for y in range(2,5):\n",
    "    spots = []\n",
    "    for kid in ttry.root[ttt[y]]._v_children:\n",
    "        spots.append(kid)\n",
    "        \n",
    "    for x in range(0,len(spots)):\n",
    "        SIG = ttry.root[ttt[y]][spots[x]].read()\n",
    "        BAK = ttry.root[yyy[y]][spots[x]].read()\n",
    "        Num_Frames=500\n",
    "        ww = np.arange(0,Num_Frames)*0.5\n",
    "        sig = np.add.reduceat(SIG, np.arange(0, len(SIG), 5))\n",
    "        bak = np.add.reduceat(BAK, np.arange(0, len(BAK), 5))\n",
    "        www = np.add.reduceat(ww, np.arange(0, len(ww), 5))\n",
    "        times    = np.arange(0,len(sig))*2.5\n",
    "        baerry = np.sqrt(sig)\n",
    "        naerry = np.sqrt(bak)\n",
    "        coefsF = poly.polyfit(times,bak, 3)\n",
    "        ffitF  = poly.polyval(times, coefsF)\n",
    "        fitS = (sig-ffitF*25/56)/25\n",
    "        fitSbk = baerry/25\n",
    "        fitB = (bak-ffitF)/56\n",
    "        fitBbk = naerry/25\n",
    "        tim = times\n",
    "        Meandiff, chiStep, LT = Step_fit(tim,fitS,sigS)\n",
    "        chiLine     = Line_fit(tim,fitS,sigS)"
   ]
  },
  {
   "cell_type": "code",
   "execution_count": null,
   "metadata": {},
   "outputs": [],
   "source": []
  },
  {
   "cell_type": "code",
   "execution_count": null,
   "metadata": {},
   "outputs": [],
   "source": []
  },
  {
   "cell_type": "code",
   "execution_count": null,
   "metadata": {},
   "outputs": [],
   "source": []
  },
  {
   "cell_type": "code",
   "execution_count": null,
   "metadata": {},
   "outputs": [],
   "source": []
  },
  {
   "cell_type": "code",
   "execution_count": null,
   "metadata": {},
   "outputs": [],
   "source": []
  },
  {
   "cell_type": "code",
   "execution_count": null,
   "metadata": {},
   "outputs": [],
   "source": [
    "SLIDE_PATHS"
   ]
  },
  {
   "cell_type": "code",
   "execution_count": null,
   "metadata": {},
   "outputs": [],
   "source": []
  },
  {
   "cell_type": "code",
   "execution_count": null,
   "metadata": {},
   "outputs": [],
   "source": [
    "class Trajectory():\n",
    "    def __init__(self):\n",
    "        name           = \"\"\n",
    "        Mean_diff      = 0 \n",
    "        Chi_Step       = 0\n",
    "        Chi_Line       = 0\n",
    "        Step_Time      = 0\n",
    "        Signal         = np.array([])\n",
    "        Signal_er      = np.array([])\n",
    "        Background     = np.array([])\n",
    "        Background_er  = np.array([])"
   ]
  },
  {
   "cell_type": "code",
   "execution_count": null,
   "metadata": {},
   "outputs": [],
   "source": [
    "ANA_FILE = \"/Users/austinmcdonald/Desktop/SMFI-Analysis/test_ana_full-v2.h5\"\n",
    "Shape = 221\n",
    "Frac = 0.1\n",
    "dictt = {}\n",
    "    \n",
    "#with tb.open_file(ANA_FILE, mode=\"w\", title=\"test\") as testana:\n",
    "        \n",
    "for slide in SLIDE_PATHS:\n",
    "    SLIDE_NAME = slide.split(\"/\")[-1].split(\".\")[0]\n",
    "    print(\"Startin on \"+SLIDE_NAME)\n",
    "    GroupName  = \"Spot_Info\"+\"_\"+SLIDE_NAME\n",
    "    #GroupInfo  = testana.create_group(\"/\", GroupName)\n",
    "\n",
    "    GroupName  = \"F_Trajectory_Raw\"+\"_\"+SLIDE_NAME\n",
    "    #GroupFraw  = testana.create_group(\"/\", GroupName)\n",
    "\n",
    "    GroupName  = \"F_Trajectory_Fit\"+\"_\"+SLIDE_NAME\n",
    "    #GroupFfit  = testana.create_group(\"/\", GroupName)\n",
    "\n",
    "\n",
    "    with tb.open_file(slide, mode=\"r\", title=\"test\") as tt:\n",
    "        Num_Frames = tt.root.ImageStack._v_nchildren\n",
    "        Frame_Name = []\n",
    "        for kid in tt.root.ImageStack._v_children:\n",
    "            Frame_Name.append(kid)\n",
    "\n",
    "        mm = Image_Background(Frame_Name, Num_Frames, Shape, Frac)\n",
    "        #testana.create_array(GroupInfo, \"Background\", mm)\n",
    "        rr = Summed_Image(Frame_Name, Num_Frames, Shape, mm)\n",
    "        #testana.create_array(GroupInfo, \"Summed\", mm)\n",
    "        aa = Spot_finder(rr,10,3,Shape,20)\n",
    "        #testana.create_array(GroupInfo, \"AllPairs\", aa)\n",
    "\n",
    "        aaa = Spot_Area(Frame_Name, Num_Frames, mm, aa)\n",
    "        Num_Spots = len(aa)\n",
    "        print(\"found \"+str(Num_Spots)+\" spots!\")\n",
    "        for x in range(0,Num_Spots):\n",
    "            X = str(int(aa[x][0]))\n",
    "            Y = str(int(aa[x][1]))\n",
    "            NAME = \"X\"+X+\"_Y\"+Y\n",
    "            sig = np.array(aaa[x::Num_Spots])[:,2]\n",
    "            bkg = np.array(aaa[x::Num_Spots])[:,3]\n",
    "            stuff = np.array([sig,bkg])\n",
    "            #testana.create_array(GroupFraw, NAME, stuff)\n",
    "\n",
    "            SIG = sig\n",
    "            BAK = bkg\n",
    "            Num_Frames=500\n",
    "            ww = np.arange(0,Num_Frames)*0.5\n",
    "            sig = np.add.reduceat(SIG, np.arange(0, len(SIG), 5))\n",
    "            bak = np.add.reduceat(BAK, np.arange(0, len(BAK), 5))\n",
    "            www = np.add.reduceat(ww, np.arange(0, len(ww), 5))\n",
    "            times    = np.arange(0,len(sig))*2.5\n",
    "            baerry = np.sqrt(sig)\n",
    "            naerry = np.sqrt(bak)\n",
    "            coefsF = poly.polyfit(times,bak, 3)\n",
    "            ffitF  = poly.polyval(times, coefsF)\n",
    "            fitS = (sig-ffitF*25/56)/25\n",
    "            fitSbk = baerry/25\n",
    "            fitB = (bak-ffitF)/56\n",
    "            fitBbk = naerry/25\n",
    "            tim = times\n",
    "            Meandiff, chiStep, LT = Step_fit(tim,fitS,fitSbk)\n",
    "            chiLine     = Line_fit(tim,fitS,fitSbk)\n",
    "            \n",
    "            Trj = Trajectory()\n",
    "            Trj.name = NAME\n",
    "            Trj.Mean_diff = Meandiff\n",
    "            Trj.Chi_Step = chiStep\n",
    "            Trj.Chi_Line = chiLine\n",
    "            Trj.Step_Time = LT\n",
    "            Trj.Signal = fitS\n",
    "            Trj.Signal_er = fitSbk\n",
    "            Trj.Background = fitB\n",
    "            Trj.Background_er = fitBbk\n",
    "     \n",
    "    \n",
    "            dictt[SLIDE_NAME+'/'+NAME] = Trj\n",
    "                \n",
    "                #stuff = np.array([fitS, fitSbk, fitB, fitBbk, Meandiff, chiStep, chiLine, LT])\n",
    "                #testana.create_array(GroupFfit, NAME, stuff)\n",
    "                \n",
    "        #testana.flush()\n",
    "    \n",
    "    "
   ]
  },
  {
   "cell_type": "code",
   "execution_count": null,
   "metadata": {},
   "outputs": [],
   "source": [
    "dictt['Slide2_Spot3/X81_Y73'].Mean_diff"
   ]
  },
  {
   "cell_type": "code",
   "execution_count": null,
   "metadata": {},
   "outputs": [],
   "source": [
    "dictt.keys()"
   ]
  },
  {
   "cell_type": "code",
   "execution_count": null,
   "metadata": {},
   "outputs": [],
   "source": [
    "np.save('Trajectory.npy',dictt)"
   ]
  },
  {
   "cell_type": "code",
   "execution_count": null,
   "metadata": {},
   "outputs": [],
   "source": []
  },
  {
   "cell_type": "code",
   "execution_count": null,
   "metadata": {},
   "outputs": [],
   "source": []
  },
  {
   "cell_type": "code",
   "execution_count": null,
   "metadata": {},
   "outputs": [],
   "source": []
  },
  {
   "cell_type": "code",
   "execution_count": null,
   "metadata": {},
   "outputs": [],
   "source": [
    "ANA_FILE = \"/Users/austinmcdonald/Desktop/SMFI-Analysis/test_ana_full-v2.h5\"\n",
    "Shape = 221\n",
    "Frac = 0.1\n",
    "    \n",
    "with tb.open_file(ANA_FILE, mode=\"w\", title=\"test\") as testana:\n",
    "        \n",
    "    for slide in SLIDE_PATHS:\n",
    "        SLIDE_NAME = slide.split(\"/\")[-1].split(\".\")[0]\n",
    "        print(\"Startin on \"+SLIDE_NAME)\n",
    "        GroupName  = \"Spot_Info\"+\"_\"+SLIDE_NAME\n",
    "        GroupInfo  = testana.create_group(\"/\", GroupName)\n",
    "        \n",
    "        GroupName  = \"F_Trajectory_Raw\"+\"_\"+SLIDE_NAME\n",
    "        GroupFraw  = testana.create_group(\"/\", GroupName)\n",
    "        \n",
    "        GroupName  = \"F_Trajectory_Fit\"+\"_\"+SLIDE_NAME\n",
    "        GroupFfit  = testana.create_group(\"/\", GroupName)\n",
    "        \n",
    "\n",
    "        with tb.open_file(slide, mode=\"r\", title=\"test\") as tt:\n",
    "            Num_Frames = tt.root.ImageStack._v_nchildren\n",
    "            Frame_Name = []\n",
    "            for kid in tt.root.ImageStack._v_children:\n",
    "                Frame_Name.append(kid)\n",
    "\n",
    "            mm = Image_Background(Frame_Name, Num_Frames, Shape, Frac)\n",
    "            testana.create_array(GroupInfo, \"Background\", mm)\n",
    "            rr = Summed_Image(Frame_Name, Num_Frames, Shape, mm)\n",
    "            testana.create_array(GroupInfo, \"Summed\", mm)\n",
    "            aa = Spot_finder(rr,10,3,Shape,20)\n",
    "            testana.create_array(GroupInfo, \"AllPairs\", aa)\n",
    "\n",
    "            aaa = Spot_Area(Frame_Name, Num_Frames, mm, aa)\n",
    "            Num_Spots = len(aa)\n",
    "            print(\"found \"+str(Num_Spots)+\" spots!\")\n",
    "            for x in range(0,Num_Spots):\n",
    "                X = str(int(aa[x][0]))\n",
    "                Y = str(int(aa[x][1]))\n",
    "                NAME = \"X\"+X+\"_Y\"+Y\n",
    "                sig = np.array(aaa[x::Num_Spots])[:,2]\n",
    "                bkg = np.array(aaa[x::Num_Spots])[:,3]\n",
    "                stuff = np.array([sig,bkg])\n",
    "                testana.create_array(GroupFraw, NAME, stuff)\n",
    "                \n",
    "                SIG = sig\n",
    "                BAK = bkg\n",
    "                Num_Frames=500\n",
    "                ww = np.arange(0,Num_Frames)*0.5\n",
    "                sig = np.add.reduceat(SIG, np.arange(0, len(SIG), 5))\n",
    "                bak = np.add.reduceat(BAK, np.arange(0, len(BAK), 5))\n",
    "                www = np.add.reduceat(ww, np.arange(0, len(ww), 5))\n",
    "                times    = np.arange(0,len(sig))*2.5\n",
    "                baerry = np.sqrt(sig)\n",
    "                naerry = np.sqrt(bak)\n",
    "                coefsF = poly.polyfit(times,bak, 3)\n",
    "                ffitF  = poly.polyval(times, coefsF)\n",
    "                fitS = (sig-ffitF*25/56)/25\n",
    "                fitSbk = baerry/25\n",
    "                fitB = (bak-ffitF)/56\n",
    "                fitBbk = naerry/25\n",
    "                tim = times\n",
    "                Meandiff, chiStep, LT = Step_fit(tim,fitS,fitSbk)\n",
    "                chiLine     = Line_fit(tim,fitS,fitSbk)\n",
    "                \n",
    "                stuff = np.array([fitS, fitSbk, fitB, fitBbk, Meandiff, chiStep, chiLine, LT])\n",
    "                testana.create_array(GroupFfit, NAME, stuff)\n",
    "                \n",
    "        #testana.flush()\n",
    "    \n",
    "    "
   ]
  },
  {
   "cell_type": "code",
   "execution_count": null,
   "metadata": {},
   "outputs": [],
   "source": []
  },
  {
   "cell_type": "code",
   "execution_count": null,
   "metadata": {},
   "outputs": [],
   "source": []
  },
  {
   "cell_type": "code",
   "execution_count": null,
   "metadata": {},
   "outputs": [],
   "source": []
  },
  {
   "cell_type": "code",
   "execution_count": null,
   "metadata": {},
   "outputs": [],
   "source": []
  },
  {
   "cell_type": "code",
   "execution_count": null,
   "metadata": {},
   "outputs": [],
   "source": []
  },
  {
   "cell_type": "code",
   "execution_count": null,
   "metadata": {},
   "outputs": [],
   "source": []
  },
  {
   "cell_type": "code",
   "execution_count": null,
   "metadata": {},
   "outputs": [],
   "source": []
  },
  {
   "cell_type": "code",
   "execution_count": null,
   "metadata": {},
   "outputs": [],
   "source": []
  },
  {
   "cell_type": "code",
   "execution_count": null,
   "metadata": {},
   "outputs": [],
   "source": []
  },
  {
   "cell_type": "code",
   "execution_count": null,
   "metadata": {},
   "outputs": [],
   "source": []
  },
  {
   "cell_type": "code",
   "execution_count": null,
   "metadata": {},
   "outputs": [],
   "source": []
  },
  {
   "cell_type": "code",
   "execution_count": null,
   "metadata": {},
   "outputs": [],
   "source": []
  },
  {
   "cell_type": "code",
   "execution_count": null,
   "metadata": {},
   "outputs": [],
   "source": []
  },
  {
   "cell_type": "code",
   "execution_count": null,
   "metadata": {},
   "outputs": [],
   "source": []
  },
  {
   "cell_type": "code",
   "execution_count": null,
   "metadata": {},
   "outputs": [],
   "source": []
  },
  {
   "cell_type": "code",
   "execution_count": null,
   "metadata": {},
   "outputs": [],
   "source": []
  },
  {
   "cell_type": "code",
   "execution_count": null,
   "metadata": {},
   "outputs": [],
   "source": []
  },
  {
   "cell_type": "code",
   "execution_count": null,
   "metadata": {},
   "outputs": [],
   "source": []
  },
  {
   "cell_type": "code",
   "execution_count": null,
   "metadata": {},
   "outputs": [],
   "source": []
  },
  {
   "cell_type": "code",
   "execution_count": null,
   "metadata": {},
   "outputs": [],
   "source": []
  },
  {
   "cell_type": "code",
   "execution_count": null,
   "metadata": {},
   "outputs": [],
   "source": []
  },
  {
   "cell_type": "code",
   "execution_count": null,
   "metadata": {},
   "outputs": [],
   "source": []
  },
  {
   "cell_type": "code",
   "execution_count": null,
   "metadata": {},
   "outputs": [],
   "source": []
  },
  {
   "cell_type": "code",
   "execution_count": null,
   "metadata": {},
   "outputs": [],
   "source": [
    "aaa = Spot_Area(Frame_Name, Num_Frames, mm, aa)"
   ]
  },
  {
   "cell_type": "code",
   "execution_count": null,
   "metadata": {},
   "outputs": [],
   "source": [
    "tt.close()"
   ]
  },
  {
   "cell_type": "code",
   "execution_count": null,
   "metadata": {},
   "outputs": [],
   "source": [
    "ANA_FILE = \"/Users/austinmcdonald/Desktop/SMFI-Analysis/test_ana.h5\"\n",
    "data = \"/Users/austinmcdonald/Desktop/SMFI-Analysis/test.h5\"\n",
    "data = \"/Users/austinmcdonald/Desktop/SMFI-Analysis/10-12-17/Ba/Slide1_Spot1.h5\"\n",
    "Shape = 221\n",
    "Frac = 0.1\n",
    "with tb.open_file(ANA_FILE, mode=\"w\", title=\"test\") as testana:\n",
    "    GroupName  = \"Spot_Info\"\n",
    "    GroupInfo  = testana.create_group(\"/\", GroupName)\n",
    "    GroupName  = \"Signal_Area\"\n",
    "    GroupSig   = testana.create_group(\"/\", GroupName)\n",
    "    GroupName  = \"Background_Area\"\n",
    "    GroupBkg   = testana.create_group(\"/\", GroupName)\n",
    "    \n",
    "    with tb.open_file(data, mode=\"r\", title=\"test\") as tt:\n",
    "        Num_Frames = tt.root.ImageStack._v_nchildren\n",
    "        Frame_Name = []\n",
    "        for kid in tt.root.ImageStack._v_children:\n",
    "            Frame_Name.append(kid)\n",
    "        \n",
    "        mm = Image_Background(Frame_Name, Num_Frames, Shape, Frac)\n",
    "        testana.create_array(GroupInfo, \"Background\", mm)\n",
    "        rr = Summed_Image(Frame_Name, Num_Frames, Shape, mm)\n",
    "        testana.create_array(GroupInfo, \"Summed\", mm)\n",
    "        aa = Spot_finder(rr,9,3,Shape,10)\n",
    "        testana.create_array(GroupInfo, \"AllPairs\", aa)\n",
    "        \n",
    "        aaa = Spot_Area(Frame_Name, Num_Frames, mm, aa)\n",
    "        Num_Spots = len(aa)\n",
    "        for x in range(0,Num_Spots):\n",
    "            X = str(int(aa[x][0]))\n",
    "            Y = str(int(aa[x][1]))\n",
    "            NAME = \"X\"+X+\"_Y\"+Y\n",
    "            sig = np.array(aaa[x::Num_Spots])[:,2]\n",
    "            testana.create_array(GroupSig, NAME, sig)\n",
    "            bkg = np.array(aaa[x::Num_Spots])[:,3]\n",
    "            testana.create_array(GroupBkg, NAME, bkg)\n",
    "        "
   ]
  },
  {
   "cell_type": "code",
   "execution_count": null,
   "metadata": {},
   "outputs": [],
   "source": []
  },
  {
   "cell_type": "code",
   "execution_count": null,
   "metadata": {},
   "outputs": [],
   "source": [
    "ttry = tb.open_file(\"/Users/austinmcdonald/Desktop/SMFI-Analysis/test_ana.h5\"\n",
    "                    , mode=\"r\", title=\"test\")"
   ]
  },
  {
   "cell_type": "code",
   "execution_count": null,
   "metadata": {
    "scrolled": true
   },
   "outputs": [],
   "source": [
    "ttry.root.Spot_Info.AllPairs"
   ]
  },
  {
   "cell_type": "code",
   "execution_count": null,
   "metadata": {},
   "outputs": [],
   "source": [
    "ttry.close()"
   ]
  },
  {
   "cell_type": "code",
   "execution_count": null,
   "metadata": {},
   "outputs": [],
   "source": []
  },
  {
   "cell_type": "code",
   "execution_count": null,
   "metadata": {},
   "outputs": [],
   "source": [
    "data = \"/Users/austinmcdonald/Desktop/SMFI-Analysis/10-12-17/Ba/Slide1_Spot1.h5\"\n"
   ]
  },
  {
   "cell_type": "code",
   "execution_count": null,
   "metadata": {},
   "outputs": [],
   "source": [
    "SLIDE_LOC = \"/Users/austinmcdonald/Desktop/SMFI-Analysis/10-12-17/Ba/\"\n",
    "\n",
    "SLIDE_PATHS = [os.path.join(SLIDE_LOC, f) for f in os.listdir(SLIDE_LOC) if f.endswith(\".h5\")] \n",
    "SLIDE_NAMES = []\n",
    "for slide in SLIDE_PATHS:\n",
    "    hold = slide.split(\"/\")[-1].split(\".\")[0]\n",
    "    SLIDE_NAMES.append(hold)\n"
   ]
  },
  {
   "cell_type": "code",
   "execution_count": null,
   "metadata": {},
   "outputs": [],
   "source": []
  },
  {
   "cell_type": "code",
   "execution_count": null,
   "metadata": {},
   "outputs": [],
   "source": [
    "ANA_FILE = \"/Users/austinmcdonald/Desktop/SMFI-Analysis/test_ana_full.h5\"\n",
    "#data = \"/Users/austinmcdonald/Desktop/SMFI-Analysis/test.h5\"\n",
    "#data = \"/Users/austinmcdonald/Desktop/SMFI-Analysis/10-12-17/Ba/Slide1_Spot1.h5\"\n",
    "Shape = 221\n",
    "Frac = 0.1\n",
    "    \n",
    "with tb.open_file(ANA_FILE, mode=\"w\", title=\"test\") as testana:\n",
    "        \n",
    "    for slide in SLIDE_PATHS:\n",
    "        SLIDE_NAME = slide.split(\"/\")[-1].split(\".\")[0]\n",
    "        print(\"Startin on \"+SLIDE_NAME)\n",
    "        GroupName  = \"Spot_Info\"+\"_\"+SLIDE_NAME\n",
    "        GroupInfo  = testana.create_group(\"/\", GroupName)\n",
    "        GroupName  = \"Signal_Area\"+\"_\"+SLIDE_NAME\n",
    "        GroupSig   = testana.create_group(\"/\", GroupName)\n",
    "        GroupName  = \"Background_Area\"+\"_\"+SLIDE_NAME\n",
    "        GroupBkg   = testana.create_group(\"/\", GroupName)\n",
    "\n",
    "        with tb.open_file(slide, mode=\"r\", title=\"test\") as tt:\n",
    "            Num_Frames = tt.root.ImageStack._v_nchildren\n",
    "            Frame_Name = []\n",
    "            for kid in tt.root.ImageStack._v_children:\n",
    "                Frame_Name.append(kid)\n",
    "\n",
    "            mm = Image_Background(Frame_Name, Num_Frames, Shape, Frac)\n",
    "            testana.create_array(GroupInfo, \"Background\", mm)\n",
    "            rr = Summed_Image(Frame_Name, Num_Frames, Shape, mm)\n",
    "            testana.create_array(GroupInfo, \"Summed\", mm)\n",
    "            aa = Spot_finder(rr,10,3,Shape,20)\n",
    "            testana.create_array(GroupInfo, \"AllPairs\", aa)\n",
    "\n",
    "            aaa = Spot_Area(Frame_Name, Num_Frames, mm, aa)\n",
    "            Num_Spots = len(aa)\n",
    "            print(\"found \"+str(Num_Spots)+\" spots!\")\n",
    "            for x in range(0,Num_Spots):\n",
    "                X = str(int(aa[x][0]))\n",
    "                Y = str(int(aa[x][1]))\n",
    "                NAME = \"X\"+X+\"_Y\"+Y\n",
    "                sig = np.array(aaa[x::Num_Spots])[:,2]\n",
    "                testana.create_array(GroupSig, NAME, sig)\n",
    "                bkg = np.array(aaa[x::Num_Spots])[:,3]\n",
    "                testana.create_array(GroupBkg, NAME, bkg)\n",
    "        #testana.flush()\n",
    "    \n",
    "    "
   ]
  },
  {
   "cell_type": "code",
   "execution_count": null,
   "metadata": {},
   "outputs": [],
   "source": []
  },
  {
   "cell_type": "code",
   "execution_count": null,
   "metadata": {},
   "outputs": [],
   "source": [
    "ttry = tb.open_file(\"/Users/austinmcdonald/Desktop/SMFI-Analysis/test_ana_full.h5\"\n",
    "                    , mode=\"r\", title=\"test\")"
   ]
  },
  {
   "cell_type": "code",
   "execution_count": null,
   "metadata": {},
   "outputs": [],
   "source": [
    "ttry.root.Spot_Info_Slide1_Spot1"
   ]
  },
  {
   "cell_type": "code",
   "execution_count": null,
   "metadata": {},
   "outputs": [],
   "source": [
    "ttry.close()"
   ]
  },
  {
   "cell_type": "code",
   "execution_count": null,
   "metadata": {},
   "outputs": [],
   "source": []
  },
  {
   "cell_type": "code",
   "execution_count": null,
   "metadata": {},
   "outputs": [],
   "source": []
  },
  {
   "cell_type": "code",
   "execution_count": null,
   "metadata": {},
   "outputs": [],
   "source": []
  },
  {
   "cell_type": "code",
   "execution_count": null,
   "metadata": {},
   "outputs": [],
   "source": []
  },
  {
   "cell_type": "code",
   "execution_count": null,
   "metadata": {},
   "outputs": [],
   "source": [
    "np.array(aaa[9::len(aa)])"
   ]
  },
  {
   "cell_type": "code",
   "execution_count": null,
   "metadata": {},
   "outputs": [],
   "source": [
    "def running_mean(x, N):\n",
    "    cumsum = np.cumsum(np.insert(x, 0, 0)) \n",
    "    return (cumsum[N:] - cumsum[:-N]) / N "
   ]
  },
  {
   "cell_type": "code",
   "execution_count": null,
   "metadata": {},
   "outputs": [],
   "source": [
    "qq = np.array(aaa[21::len(aa)])\n",
    "ww = np.arange(0,Num_Frames)*0.5\n",
    "plt.plot(ww,qq[:,2]/25,color='r')\n",
    "plt.plot(ww,qq[:,3]/56,color='k')\n",
    "plt.show()\n",
    "aaaa = running_mean(qq[:,2]/25,  5)\n",
    "aaaaB = running_mean(qq[:,3]/56,  5)\n",
    "wwww = running_mean(ww, 5)\n",
    "\n",
    "plt.plot(wwww,aaaa,color='r')\n",
    "plt.plot(wwww,aaaaB,color='k')\n",
    "\n",
    "#valsF =np.arange(0,len(dataFull))*2.5\n",
    "coefsF = poly.polyfit(wwww,aaaaB, 9)\n",
    "ffitF  = poly.polyval(wwww, coefsF)\n",
    "plt.scatter(wwww,ffitF)\n",
    "plt.show()\n",
    "\n",
    "ffitF  = poly.polyval(wwww, coefsF)\n",
    "plt.plot(wwww,aaaa-ffitF,color='r')\n",
    "plt.plot(wwww,aaaaB-ffitF,color='k')\n",
    "\n",
    "plt.show()"
   ]
  },
  {
   "cell_type": "code",
   "execution_count": null,
   "metadata": {},
   "outputs": [],
   "source": []
  },
  {
   "cell_type": "code",
   "execution_count": null,
   "metadata": {},
   "outputs": [],
   "source": []
  },
  {
   "cell_type": "code",
   "execution_count": null,
   "metadata": {},
   "outputs": [],
   "source": [
    "tt.close()"
   ]
  },
  {
   "cell_type": "code",
   "execution_count": null,
   "metadata": {},
   "outputs": [],
   "source": []
  },
  {
   "cell_type": "code",
   "execution_count": null,
   "metadata": {},
   "outputs": [],
   "source": []
  },
  {
   "cell_type": "code",
   "execution_count": null,
   "metadata": {},
   "outputs": [],
   "source": []
  },
  {
   "cell_type": "code",
   "execution_count": null,
   "metadata": {},
   "outputs": [],
   "source": []
  },
  {
   "cell_type": "code",
   "execution_count": null,
   "metadata": {},
   "outputs": [],
   "source": []
  },
  {
   "cell_type": "code",
   "execution_count": null,
   "metadata": {},
   "outputs": [],
   "source": [
    "#################################################################\n",
    "#  FirstImage Should be an image from the stack of images, it is easiest to choose the first\n",
    "#  eCoeff/eOffset are the units given in the tiff file that allow you to go from the \"grey count\" \n",
    "#  to acutual Photo Electrons PE. These can be found by opening a tiff with a text editing sofware and \n",
    "#  scrolling to the bottom.\n",
    "#\n",
    "#  The puropose of this function is to get the shape of the image and generate matricies of variables \n",
    "#  for later use\n",
    "#################################################################\n",
    "def Shaper(FirstImage,eCoeff,eOffset):\n",
    "    ShapeSize = np.array(Image.open(FirstImage))\n",
    "    Shape = ShapeSize.shape[0]\n",
    "    eCoeffMatrix = eCoeff*np.ones(Shape**2).reshape((Shape,Shape))\n",
    "    eOffsetMatrix = eOffset*np.ones(Shape**2).reshape((Shape,Shape))\n",
    "    EmptyData = np.zeros(Shape**2).reshape((Shape,Shape))\n",
    "    return Shape, EmptyData, eCoeffMatrix, eOffsetMatrix\n",
    "\n",
    "#################################################################\n",
    "# datafiles is the list of images in the stack ( should be in order)\n",
    "# Shape is the shape of the image \n",
    "# eCoeffMatrix / eOffsetMatrix are generated from Shaper above\n",
    "# Frac is the percent of the images at the end of the stack you want to \n",
    "# use to generate the background profile \n",
    "#################################################################\n",
    "def Image_Background(datafiles, Shape, eCoeffMatrix, eOffsetMatrix, Frac):\n",
    "    xvs = np.arange(0,Shape)\n",
    "    MeanFit = np.zeros(Shape**2).reshape((Shape,Shape))\n",
    "    LL = len(datafiles)\n",
    "    Fraction = int(LL*Frac)\n",
    "    for x in range(LL-Fraction,LL):\n",
    "        Images = np.array(Image.open(datafiles[x]))\n",
    "        Images = eCoeffMatrix*(Images - eOffsetMatrix)  \n",
    "        ImageFit = []\n",
    "        for y in range(0,Shape):\n",
    "            coefs = poly.polyfit(xvs,Images[y], 6) \n",
    "            ffit  = poly.polyval(xvs, coefs)\n",
    "            ImageFit.append(ffit)\n",
    "        MeanFit+=np.array(ImageFit)\n",
    "    MeanFit = MeanFit/(Fraction)\n",
    "    return MeanFit\n",
    "\n",
    "#################################################################\n",
    "# datafiles is the list of images in the stack ( should be in order)\n",
    "# EmptyData is the empty matrix generated by Shaper \n",
    "# eCoeffMatrix / eOffsetMatrix are generated from Shaper above\n",
    "# MeanFit is generated above \n",
    "# \n",
    "# This returns the summed stack where each image is background corrected \n",
    "# this is needed to find the high points with the next function\n",
    "#################################################################\n",
    "\n",
    "def Summed_Image(datafiles, EmptyData, MeanFit, eCoeffMatrix, eOffsetMatrix):\n",
    "    LL = len(datafiles)\n",
    "    for q in range(0,LL):\n",
    "        Images = (np.array(Image.open(datafiles[q])) )\n",
    "        Images = eCoeffMatrix*(Images - eOffsetMatrix)-MeanFit \n",
    "        EmptyData += Images\n",
    "    return EmptyData\n",
    "\n",
    "#################################################################\n",
    "# datafiles is the list of images in the stack ( should be in order)\n",
    "# This function scans the data and finds maxima in a region that is the size of \n",
    "# neighborhood_size. It looks for points in the neighborhood_size that are above\n",
    "# the threshold. The threshold is defined as the mean of the data set + threshold_sigma\n",
    "# deavations above the mean. the lower the threshold_sigma the more points you will get.\n",
    "# also lowering the neighborhood_size will yeild more points\n",
    "#\n",
    "# Shape and EdgeCut are included so you can cut points out that are near the edge of the image\n",
    "#################################################################\n",
    "def Spot_finder(SummedData, neighborhood_size, threshold_sigma, Shape, EdgeCut):\n",
    "\n",
    "    threshold = np.mean(SummedData)+threshold_sigma*np.std(SummedData)\n",
    "\n",
    "    data_max = filters.maximum_filter(SummedData, neighborhood_size)\n",
    "    maxima = (SummedData == data_max)\n",
    "    data_min = filters.minimum_filter(SummedData, neighborhood_size)\n",
    "    diff = ((data_max - data_min) > threshold)\n",
    "    maxima[diff == 0] = 0\n",
    "\n",
    "    labeled, num_objects = ndimage.label(maxima)\n",
    "    slices = ndimage.find_objects(labeled)\n",
    "    x, y = [], []\n",
    "    AllPairs = []\n",
    "    for dy,dx in slices:\n",
    "        x_center = (dx.start + dx.stop - 1)/2\n",
    "        y_center = (dy.start + dy.stop - 1)/2\n",
    "        if x_center>EdgeCut and x_center<Shape-EdgeCut and y_center>EdgeCut and y_center<Shape-EdgeCut:\n",
    "            x.append(x_center)\n",
    "            y.append(y_center)\n",
    "            AllPairs.append((x_center,y_center))\n",
    "    return AllPairs, x, y\n"
   ]
  },
  {
   "cell_type": "code",
   "execution_count": null,
   "metadata": {},
   "outputs": [],
   "source": [
    "%%time\n",
    "eCoeff = 0.01160\n",
    "eOffset= 1917"
   ]
  },
  {
   "cell_type": "code",
   "execution_count": null,
   "metadata": {},
   "outputs": [],
   "source": []
  },
  {
   "cell_type": "code",
   "execution_count": null,
   "metadata": {},
   "outputs": [],
   "source": []
  },
  {
   "cell_type": "code",
   "execution_count": null,
   "metadata": {},
   "outputs": [],
   "source": [
    "eCoeff = 0.01160\n",
    "eOffset= 1917\n",
    "\n",
    "Shape, EmptyData, eCoeffMatrix, eOffsetMatrix = Shaper(files[0],eCoeff,eOffset)\n",
    "\n",
    "MeanFit = Image_Background(files, Shape, eCoeffMatrix, eOffsetMatrix, 0.05)\n",
    "\n",
    "Data = Summed_Image(files, EmptyData, MeanFit, eCoeffMatrix, eOffsetMatrix)\n",
    "#Data[Data < 0] = 0\n",
    "\n",
    "All,x_points,y_points =Spot_finder(Data, 20, 6, Shape, 20)\n",
    "\n",
    "len(All)"
   ]
  },
  {
   "cell_type": "code",
   "execution_count": null,
   "metadata": {},
   "outputs": [],
   "source": [
    "print('All ',len(All))\n",
    "print('x ',len(x_points))\n",
    "print('y ',len(y_points))"
   ]
  },
  {
   "cell_type": "code",
   "execution_count": null,
   "metadata": {},
   "outputs": [],
   "source": [
    "All"
   ]
  },
  {
   "cell_type": "code",
   "execution_count": null,
   "metadata": {},
   "outputs": [],
   "source": []
  },
  {
   "cell_type": "code",
   "execution_count": null,
   "metadata": {},
   "outputs": [],
   "source": [
    "plt.imshow(Data)\n",
    "plt.show()\n",
    "\n",
    "plt.imshow(Data)\n",
    "plt.scatter(x_points,y_points,color='r')\n",
    "plt.show()\n",
    "\n",
    "Xindex = int(All[13][0])\n",
    "Yindex = int(All[13][1])\n",
    "print(All[13])\n",
    "Row = int(4) \n",
    "Col = int(4)\n",
    "spot1 = np.array(Data[Yindex-Row:Yindex+Row+1,Xindex-Col:Xindex+Col+1])\n",
    "\n",
    "plt.imshow(spot1)\n",
    "plt.show()\n",
    "\n",
    "spot = spot1[2:7,2:7]\n",
    "plt.imshow(spot)\n",
    "plt.show()"
   ]
  },
  {
   "cell_type": "code",
   "execution_count": null,
   "metadata": {},
   "outputs": [],
   "source": []
  },
  {
   "cell_type": "code",
   "execution_count": null,
   "metadata": {},
   "outputs": [],
   "source": []
  },
  {
   "cell_type": "code",
   "execution_count": null,
   "metadata": {},
   "outputs": [],
   "source": [
    "#################################################################\n",
    "# Takes the datafiles and the IDed points and computes the area for each point\n",
    "# through the whole stack\n",
    "#################################################################\n",
    "def Spot_Area(datafiles, MeanFit, eCoeffMatrix, eOffsetMatrix, All):\n",
    "    LL = len(datafiles)\n",
    "    SpotInfo = []\n",
    "    for q in range(0,LL):\n",
    "        Images = (np.array(Image.open(datafiles[q])) )\n",
    "        Images = eCoeffMatrix*(Images - eOffsetMatrix)-MeanFit \n",
    "        Images[Images < 0] = 0 \n",
    "\n",
    "        Row = int(4) # define the area to take around the spots\n",
    "        Col = int(4) # define the area to take around the spots\n",
    "        for we in range(0,len(All)):\n",
    "            Xindex = int(All[we][0])\n",
    "            Yindex = int(All[we][1])\n",
    "\n",
    "            spot1 = np.array(Images[Yindex-Row:Yindex+Row+1,Xindex-Col:Xindex+Col+1])\n",
    "            spot2 = np.array(Images[Yindex-Row:Yindex+Row+1,Xindex-Col:Xindex+Col+1])\n",
    "            spot = spot1[2:7,2:7]\n",
    "            SpotRemove = np.zeros(5**2).reshape((5,5))\n",
    "            spot2[2:7,2:7]=SpotRemove\n",
    "            spotB = spot2\n",
    "\n",
    "            ATot = spot.sum()\n",
    "            ATotB = spot2.sum()\n",
    "            SpotInfo.append([Xindex,Yindex,ATot,ATotB])\n",
    "    return SpotInfo"
   ]
  },
  {
   "cell_type": "code",
   "execution_count": null,
   "metadata": {},
   "outputs": [],
   "source": []
  },
  {
   "cell_type": "code",
   "execution_count": null,
   "metadata": {},
   "outputs": [],
   "source": []
  },
  {
   "cell_type": "code",
   "execution_count": null,
   "metadata": {},
   "outputs": [],
   "source": [
    "len(files)"
   ]
  },
  {
   "cell_type": "code",
   "execution_count": null,
   "metadata": {},
   "outputs": [],
   "source": [
    "AHH = Spot_Area(files, MeanFit, eCoeffMatrix, eOffsetMatrix, All)"
   ]
  },
  {
   "cell_type": "code",
   "execution_count": null,
   "metadata": {},
   "outputs": [],
   "source": [
    "HoldArea = np.array(AHH[2::36])[:,2]\n",
    "#HoldAreaB = np.array(SpotInfo2[x::Par])[:,5]"
   ]
  },
  {
   "cell_type": "code",
   "execution_count": null,
   "metadata": {},
   "outputs": [],
   "source": [
    "len(HoldArea)"
   ]
  },
  {
   "cell_type": "code",
   "execution_count": null,
   "metadata": {},
   "outputs": [],
   "source": [
    "Par = len(AllPairs)\n",
    "AVG = 5\n",
    "Signal = []\n",
    "BackG  = []\n",
    "SignalF = []\n",
    "BackGF  = []\n",
    "for x in range(0,Par):\n",
    "    HoldArea = np.array(SpotInfo2[x::Par])[:,4]\n",
    "    HoldAreaB = np.array(SpotInfo2[x::Par])[:,5]\n",
    "    aa = np.add.reduceat(HoldArea, np.arange(0, len(HoldArea), AVG))\n",
    "    aaB = np.add.reduceat(HoldAreaB, np.arange(0, len(HoldAreaB), AVG))\n",
    "    vals =np.arange(0,len(aa))\n",
    "\n",
    "    coefs = poly.polyfit(vals,aaB, 3)\n",
    "    ffit  = poly.polyval(vals, coefs)\n",
    "    Sig = np.array(aa-ffit)\n",
    "    bac = np.array(aaB-ffit)\n",
    "\n",
    "    SigF = np.array(HoldArea)\n",
    "    bacF = np.array(HoldAreaB)\n",
    "\n",
    "    Signal.append(Sig)\n",
    "    BackG.append(bac)\n",
    "    SignalF.append(SigF)\n",
    "    BackGF.append(bacF)"
   ]
  },
  {
   "cell_type": "markdown",
   "metadata": {},
   "source": [
    "## "
   ]
  },
  {
   "cell_type": "code",
   "execution_count": null,
   "metadata": {},
   "outputs": [],
   "source": [
    "AVG = 5\n",
    "Mnumb = 5\n",
    "M = 36\n",
    "\n",
    "HoldArea = np.array(AHH[M::36])[:,2]\n",
    "HoldAreaB = np.array(AHH[M::36])[:,3]\n",
    "aa = np.add.reduceat(HoldArea, np.arange(0, len(HoldArea), AVG))\n",
    "aaB = np.add.reduceat(HoldAreaB, np.arange(0, len(HoldAreaB), AVG))\n",
    "vals =np.arange(0,len(aa))\n",
    "\n",
    "coefs = poly.polyfit(vals,aaB, 3)\n",
    "ffit  = poly.polyval(vals, coefs)\n",
    "Sig = np.array(aa-ffit*(25/56))\n",
    "Bak = np.array(aaB-ffit)\n",
    "\n",
    "xx = np.arange(500)\n",
    "M = 25\n",
    "plt.scatter(vals,Sig,color='r')\n",
    "plt.scatter(vals,Bak,color='k')\n",
    "\n",
    "plt.show()"
   ]
  },
  {
   "cell_type": "code",
   "execution_count": null,
   "metadata": {},
   "outputs": [],
   "source": [
    "len(np.arange(500))"
   ]
  },
  {
   "cell_type": "code",
   "execution_count": null,
   "metadata": {},
   "outputs": [],
   "source": [
    "def running_mean(x, N):\n",
    "    cumsum = np.cumsum(np.insert(x, 0, 0)) \n",
    "    return (cumsum[N:] - cumsum[:-N]) / N "
   ]
  },
  {
   "cell_type": "code",
   "execution_count": null,
   "metadata": {
    "scrolled": false
   },
   "outputs": [],
   "source": [
    "#Raw plot\n",
    "M = 13\n",
    "\n",
    "HoldArea = np.array(AHH[M::36])[:,2]\n",
    "HoldAreaB = np.array(AHH[M::36])[:,3]\n",
    "\n",
    "dataFull = np.add.reduceat(HoldArea, np.arange(0, len(HoldArea), 5))\n",
    "dataFullB = np.add.reduceat(HoldAreaB, np.arange(0, len(HoldAreaB), 5))\n",
    "times    = np.arange(0,len(dataFull))*2.5\n",
    "\n",
    "K=5\n",
    "Atime = running_mean(times,K)\n",
    "Adat  = running_mean(dataFull,K)\n",
    "AdatB = running_mean(dataFullB,K)\n",
    "\n",
    "fig, ax = plt.subplots(figsize=(9,9))\n",
    "\n",
    "b1 = ax.scatter(times-5,dataFullB, color='k',marker='s',label='Background', alpha=0.5,s=75)\n",
    "bf1 = ax.plot(Atime-5,AdatB,color='k',label='moving avg',linestyle=':',linewidth=4)\n",
    "\n",
    "s1 = ax.scatter(times-5,dataFull,color='firebrick',marker='^',label='Signal', alpha=0.5,s=100)\n",
    "sf1 = ax.plot(Atime-5,Adat,color='firebrick',label='moving avg',linestyle='-',linewidth=4)\n",
    "\n",
    "valsF =np.arange(0,len(dataFull))*2.5\n",
    "coefsF = poly.polyfit(valsF,dataFullB, 9)\n",
    "ffitF  = poly.polyval(valsF, coefsF)\n",
    "plt.scatter(valsF,ffitF)\n",
    "\n",
    "baerry = np.sqrt(dataFull)\n",
    "naerry = np.sqrt(dataFullB)\n",
    "ax.errorbar(times-5,dataFull,yerr=baerry,color='firebrick',fmt='.')\n",
    "ax.errorbar(times-5,dataFullB,yerr=naerry,color='k',fmt='.')\n",
    "\n",
    "ax.set_xlim(0,375)\n",
    "#ax.set_ylim(0,15)\n",
    "ax.grid(True)\n",
    "plt.tight_layout()\n",
    "plt.show()\n",
    "\n",
    "\n",
    "#Subtracted plot\n",
    "fig, ax = plt.subplots(figsize=(9,9))\n",
    "\n",
    "dataSub  = dataFull-ffitF*(25/56)\n",
    "dataSubB = dataFullB-ffitF\n",
    "Adat  = running_mean(dataSub,K)\n",
    "AdatB = running_mean(dataSubB,K)\n",
    "\n",
    "ax.scatter(times-5,dataSubB, color='k',marker='s',label='Background', alpha=0.5,s=75)\n",
    "ax.plot(Atime-5,AdatB,color='k',label='moving avg',linestyle=':',linewidth=4)\n",
    "\n",
    "ax.scatter(times-5,dataSub,color='firebrick',marker='^',label='Signal', alpha=0.5,s=100)\n",
    "ax.plot(Atime-5,Adat,color='firebrick',label='moving avg',linestyle='-',linewidth=4)\n",
    "ax.errorbar(times-5,dataSub,yerr=baerry,color='firebrick',fmt='.')\n",
    "ax.errorbar(times-5,dataSubB,yerr=naerry,color='k',fmt='.')\n",
    "\n",
    "\n",
    "\n",
    "ax.set_xlim(0,375)\n",
    "#ax.set_ylim(0,15)\n",
    "ax.grid(True)\n",
    "plt.tight_layout()\n",
    "plt.show()\n",
    "\n",
    "\n",
    "#per pixel plot\n",
    "\n",
    "fig, ax = plt.subplots(figsize=(9,9))\n",
    "\n",
    "bknorm=56\n",
    "signorm=25\n",
    "\n",
    "ax.scatter(times-5,dataSubB/bknorm, color='k',marker='s',label='Background', alpha=0.5,s=75)\n",
    "ax.plot(Atime-5,AdatB/bknorm,color='k',label='moving avg',linestyle=':',linewidth=4)\n",
    "\n",
    "ax.scatter(times-5,dataSub/signorm,color='firebrick',marker='^',label='Signal', alpha=0.5,s=100)\n",
    "ax.plot(Atime-5,Adat/signorm,color='firebrick',label='moving avg',linestyle='-',linewidth=4)\n",
    "ax.errorbar(times-5,dataSub/signorm,yerr=baerry/signorm,color='firebrick',fmt='.')\n",
    "ax.errorbar(times-5,dataSubB/bknorm,yerr=naerry/bknorm,color='k',fmt='.')\n",
    "\n",
    "\n",
    "\n",
    "\n",
    "ax.set_xlim(0,375)\n",
    "#ax.set_ylim(0,15)\n",
    "ax.grid(True)\n",
    "plt.tight_layout()\n",
    "plt.show()"
   ]
  },
  {
   "cell_type": "code",
   "execution_count": null,
   "metadata": {},
   "outputs": [],
   "source": []
  },
  {
   "cell_type": "code",
   "execution_count": null,
   "metadata": {},
   "outputs": [],
   "source": []
  },
  {
   "cell_type": "code",
   "execution_count": null,
   "metadata": {
    "scrolled": false
   },
   "outputs": [],
   "source": [
    "#Raw plot\n",
    "M = 21\n",
    "\n",
    "HoldArea = np.array(AHH[M::36])[:,2]\n",
    "HoldAreaB = np.array(AHH[M::36])[:,3]\n",
    "\n",
    "dataFull = np.add.reduceat(HoldArea, np.arange(0, len(HoldArea), 5))\n",
    "dataFullB = np.add.reduceat(HoldAreaB, np.arange(0, len(HoldAreaB), 5))\n",
    "times    = np.arange(0,len(dataFull))*2.5\n",
    "\n",
    "K=5\n",
    "Atime = running_mean(times,K)\n",
    "Adat  = running_mean(dataFull,K)\n",
    "AdatB = running_mean(dataFullB,K)\n",
    "\n",
    "fig, ax = plt.subplots(figsize=(9,9))\n",
    "\n",
    "b1 = ax.scatter(times-5,dataFullB, color='k',marker='s',label='Background', alpha=0.5,s=75)\n",
    "bf1 = ax.plot(Atime-5,AdatB,color='k',label='moving avg',linestyle=':',linewidth=4)\n",
    "\n",
    "s1 = ax.scatter(times-5,dataFull,color='firebrick',marker='^',label='Signal', alpha=0.5,s=100)\n",
    "sf1 = ax.plot(Atime-5,Adat,color='firebrick',label='moving avg',linestyle='-',linewidth=4)\n",
    "\n",
    "valsF =np.arange(0,len(dataFull))*2.5\n",
    "coefsF = poly.polyfit(valsF,dataFullB, 9)\n",
    "ffitF  = poly.polyval(valsF, coefsF)\n",
    "plt.scatter(valsF,ffitF)\n",
    "\n",
    "baerry = np.sqrt(dataFull)\n",
    "naerry = np.sqrt(dataFullB)\n",
    "ax.errorbar(times-5,dataFull,yerr=baerry,color='firebrick',fmt='.')\n",
    "ax.errorbar(times-5,dataFullB,yerr=naerry,color='k',fmt='.')\n",
    "\n",
    "ax.set_xlim(0,375)\n",
    "#ax.set_ylim(0,15)\n",
    "ax.grid(True)\n",
    "plt.tight_layout()\n",
    "plt.show()\n",
    "\n",
    "\n",
    "#Subtracted plot\n",
    "fig, ax = plt.subplots(figsize=(9,9))\n",
    "\n",
    "dataSub  = dataFull-ffitF*(25/56)\n",
    "dataSubB = dataFullB-ffitF\n",
    "Adat  = running_mean(dataSub,K)\n",
    "AdatB = running_mean(dataSubB,K)\n",
    "\n",
    "ax.scatter(times-5,dataSubB, color='k',marker='s',label='Background', alpha=0.5,s=75)\n",
    "ax.plot(Atime-5,AdatB,color='k',label='moving avg',linestyle=':',linewidth=4)\n",
    "\n",
    "ax.scatter(times-5,dataSub,color='firebrick',marker='^',label='Signal', alpha=0.5,s=100)\n",
    "ax.plot(Atime-5,Adat,color='firebrick',label='moving avg',linestyle='-',linewidth=4)\n",
    "ax.errorbar(times-5,dataSub,yerr=baerry,color='firebrick',fmt='.')\n",
    "ax.errorbar(times-5,dataSubB,yerr=naerry,color='k',fmt='.')\n",
    "\n",
    "\n",
    "\n",
    "ax.set_xlim(0,375)\n",
    "#ax.set_ylim(0,15)\n",
    "ax.grid(True)\n",
    "plt.tight_layout()\n",
    "plt.show()\n",
    "\n",
    "\n",
    "#per pixel plot\n",
    "\n",
    "fig, ax = plt.subplots(figsize=(9,9))\n",
    "\n",
    "bknorm=56\n",
    "signorm=25\n",
    "\n",
    "ax.scatter(times-5,dataSubB/bknorm, color='k',marker='s',label='Background', alpha=0.5,s=75)\n",
    "ax.plot(Atime-5,AdatB/bknorm,color='k',label='moving avg',linestyle=':',linewidth=4)\n",
    "\n",
    "ax.scatter(times-5,dataSub/signorm,color='firebrick',marker='^',label='Signal', alpha=0.5,s=100)\n",
    "ax.plot(Atime-5,Adat/signorm,color='firebrick',label='moving avg',linestyle='-',linewidth=4)\n",
    "ax.errorbar(times-5,dataSub/signorm,yerr=baerry/signorm,color='firebrick',fmt='.')\n",
    "ax.errorbar(times-5,dataSubB/bknorm,yerr=naerry/bknorm,color='k',fmt='.')\n",
    "\n",
    "\n",
    "\n",
    "\n",
    "ax.set_xlim(0,375)\n",
    "#ax.set_ylim(0,15)\n",
    "ax.grid(True)\n",
    "plt.tight_layout()\n",
    "plt.show()"
   ]
  },
  {
   "cell_type": "code",
   "execution_count": null,
   "metadata": {},
   "outputs": [],
   "source": []
  },
  {
   "cell_type": "code",
   "execution_count": null,
   "metadata": {},
   "outputs": [],
   "source": [
    "#Raw plot\n",
    "M = 21\n",
    "\n",
    "HoldArea = np.array(AHH[M::36])[:,2]\n",
    "HoldAreaB = np.array(AHH[M::36])[:,3]\n",
    "\n",
    "dataFull = np.add.reduceat(HoldArea, np.arange(0, len(HoldArea), 5))\n",
    "dataFullB = np.add.reduceat(HoldAreaB, np.arange(0, len(HoldAreaB), 5))\n",
    "times    = np.arange(0,len(dataFull))*2.5\n",
    "\n",
    "#Atime = running_mean(times,K)\n",
    "#Adat  = running_mean(dataFull,K)\n",
    "#AdatB = running_mean(dataFullB,K)\n",
    "\n",
    "fig, ax = plt.subplots(figsize=(9,9))\n",
    "\n",
    "\n",
    "\n",
    "valsF =np.arange(0,len(dataFull))*2.5\n",
    "coefsF = poly.polyfit(valsF,dataFullB, 9)\n",
    "ffitF  = poly.polyval(valsF, coefsF)\n",
    "\n",
    "baerry = np.sqrt(dataFull)\n",
    "naerry = np.sqrt(dataFullB)\n",
    "\n",
    "\n",
    "dataSub  = dataFull-ffitF*(25/56)\n",
    "dataSubB = dataFullB-ffitF\n",
    "K=5\n",
    "Adat  = running_mean(dataSub,K)\n",
    "AdatB = running_mean(dataSubB,K)\n",
    "\n",
    "\n",
    "\n",
    "bknorm=56\n",
    "signorm=25\n",
    "\n",
    "ax.scatter(times-5,dataSubB/bknorm, color='k',marker='s',label='Background', alpha=0.5,s=75)\n",
    "ax.plot(Atime-5,AdatB/bknorm,color='k',label='moving avg',linestyle=':',linewidth=4)\n",
    "\n",
    "ax.scatter(times-5,dataSub/signorm,color='firebrick',marker='^',label='Signal', alpha=0.5,s=100)\n",
    "ax.plot(Atime-5,Adat/signorm,color='firebrick',label='moving avg',linestyle='-',linewidth=4)\n",
    "ax.errorbar(times-5,dataSub/signorm,yerr=baerry/signorm,color='firebrick',fmt='.')\n",
    "ax.errorbar(times-5,dataSubB/bknorm,yerr=naerry/bknorm,color='k',fmt='.')\n",
    "\n",
    "\n",
    "\n",
    "\n",
    "ax.set_xlim(0,max(times))\n",
    "#ax.set_ylim(0,15)\n",
    "ax.grid(True)\n",
    "plt.tight_layout()\n",
    "plt.show()"
   ]
  },
  {
   "cell_type": "code",
   "execution_count": null,
   "metadata": {},
   "outputs": [],
   "source": []
  },
  {
   "cell_type": "code",
   "execution_count": null,
   "metadata": {},
   "outputs": [],
   "source": []
  },
  {
   "cell_type": "code",
   "execution_count": null,
   "metadata": {},
   "outputs": [],
   "source": []
  },
  {
   "cell_type": "code",
   "execution_count": null,
   "metadata": {},
   "outputs": [],
   "source": []
  },
  {
   "cell_type": "code",
   "execution_count": null,
   "metadata": {},
   "outputs": [],
   "source": []
  },
  {
   "cell_type": "code",
   "execution_count": null,
   "metadata": {},
   "outputs": [],
   "source": []
  },
  {
   "cell_type": "code",
   "execution_count": null,
   "metadata": {},
   "outputs": [],
   "source": []
  },
  {
   "cell_type": "code",
   "execution_count": null,
   "metadata": {},
   "outputs": [],
   "source": []
  },
  {
   "cell_type": "code",
   "execution_count": null,
   "metadata": {},
   "outputs": [],
   "source": []
  },
  {
   "cell_type": "code",
   "execution_count": null,
   "metadata": {},
   "outputs": [],
   "source": []
  },
  {
   "cell_type": "code",
   "execution_count": null,
   "metadata": {},
   "outputs": [],
   "source": []
  },
  {
   "cell_type": "code",
   "execution_count": null,
   "metadata": {},
   "outputs": [],
   "source": [
    "Shape"
   ]
  },
  {
   "cell_type": "code",
   "execution_count": null,
   "metadata": {},
   "outputs": [],
   "source": [
    "Xc=[]\n",
    "Yc=[]\n",
    "cut = 20\n",
    "for qw in range(0,len(AllPairs)):\n",
    "    XX = AllPairs[qw][0]\n",
    "    YY = AllPairs[qw][1]\n",
    "    if XX>cut and XX<Shape-cut and YY>cut and YY<Shape-cut:\n",
    "        Xc.append(XX)\n",
    "        Yc.append(YY)\n",
    "len(Xc)"
   ]
  },
  {
   "cell_type": "code",
   "execution_count": null,
   "metadata": {},
   "outputs": [],
   "source": []
  },
  {
   "cell_type": "code",
   "execution_count": null,
   "metadata": {},
   "outputs": [],
   "source": []
  },
  {
   "cell_type": "code",
   "execution_count": null,
   "metadata": {},
   "outputs": [],
   "source": []
  },
  {
   "cell_type": "code",
   "execution_count": null,
   "metadata": {},
   "outputs": [],
   "source": [
    "Pairs[0]"
   ]
  },
  {
   "cell_type": "code",
   "execution_count": null,
   "metadata": {},
   "outputs": [],
   "source": []
  },
  {
   "cell_type": "code",
   "execution_count": null,
   "metadata": {},
   "outputs": [],
   "source": []
  },
  {
   "cell_type": "code",
   "execution_count": null,
   "metadata": {},
   "outputs": [],
   "source": [
    "eCoeff = 0.01160\n",
    "eOffset= 1917\n",
    "\n",
    "ShapeSize = np.array(Image.open(files[0]))\n",
    "Shape = ShapeSize.shape[0]\n",
    "eCoeffM = eCoeff*np.ones(Shape**2).reshape((Shape,Shape))\n",
    "eOffsetM = eOffset*np.ones(Shape**2).reshape((Shape,Shape))\n",
    "DataSub = np.zeros(Shape**2).reshape((Shape,Shape))\n",
    "\n",
    "neighborhood_size = 20\n",
    "\n",
    "AllPairs =[]\n",
    "\n",
    "xvs = np.arange(0,Shape)\n",
    "MeanFit = np.zeros(Shape**2).reshape((Shape,Shape))\n",
    "for x in range(190,200):\n",
    "    Images = np.array(Image.open(files[x]))\n",
    "    Images = eCoeffM*(Images - eOffsetM) ######################################## \n",
    "    ImageFit = []\n",
    "    for y in range(0,Shape):\n",
    "        coefs = poly.polyfit(xvs,Images[y], 6) # fits 11th order poly \n",
    "        ffit  = poly.polyval(xvs, coefs)\n",
    "        ImageFit.append(ffit)\n",
    "    MeanFit+=np.array(ImageFit)\n",
    "MeanFit = MeanFit/10\n",
    "Images=None\n",
    "\n",
    "for q in range(0,200):\n",
    "    Images = (np.array(Image.open(files[q])) )###################### - MeanFit\n",
    "    Images = eCoeffM*(Images - eOffsetM)#-MeanFit      ######################################## \n",
    "    DataSub += Images\n",
    "\n",
    "\n",
    "data = DataSub\n",
    "\n",
    "threshold = np.mean(data)+6*np.std(data)\n",
    "\n",
    "data_max = filters.maximum_filter(data, neighborhood_size)\n",
    "maxima = (data == data_max)\n",
    "data_min = filters.minimum_filter(data, neighborhood_size)\n",
    "diff = ((data_max - data_min) > threshold)\n",
    "maxima[diff == 0] = 0\n",
    "\n",
    "labeled, num_objects = ndimage.label(maxima)\n",
    "slices = ndimage.find_objects(labeled)\n",
    "x, y = [], []\n",
    "Pairs = []\n",
    "for dy,dx in slices:\n",
    "    x_center = (dx.start + dx.stop - 1)/2\n",
    "    x.append(x_center)\n",
    "    y_center = (dy.start + dy.stop - 1)/2    \n",
    "    y.append(y_center)\n",
    "    Pairs.append((x_center,y_center))\n",
    "for item in Pairs:\n",
    "    if item not in AllPairs:\n",
    "        AllPairs.append(item) "
   ]
  },
  {
   "cell_type": "code",
   "execution_count": null,
   "metadata": {},
   "outputs": [],
   "source": [
    "len(AllPairs)"
   ]
  },
  {
   "cell_type": "code",
   "execution_count": null,
   "metadata": {},
   "outputs": [],
   "source": [
    "AllPairs"
   ]
  },
  {
   "cell_type": "code",
   "execution_count": null,
   "metadata": {},
   "outputs": [],
   "source": [
    "np.mean(DataSub)\n"
   ]
  },
  {
   "cell_type": "code",
   "execution_count": null,
   "metadata": {},
   "outputs": [],
   "source": [
    "DataSub"
   ]
  },
  {
   "cell_type": "code",
   "execution_count": null,
   "metadata": {},
   "outputs": [],
   "source": [
    "MeanFit*200"
   ]
  },
  {
   "cell_type": "code",
   "execution_count": null,
   "metadata": {},
   "outputs": [],
   "source": [
    "np.mean(DataSub-MeanFit*200)"
   ]
  },
  {
   "cell_type": "code",
   "execution_count": null,
   "metadata": {},
   "outputs": [],
   "source": []
  },
  {
   "cell_type": "code",
   "execution_count": null,
   "metadata": {},
   "outputs": [],
   "source": [
    "'''Xc=[]\n",
    "Yc=[]\n",
    "for qw in range(0,len(AllPairs)):\n",
    "    XX = AllPairs[qw][0]\n",
    "    YY = AllPairs[qw][1]\n",
    "    if XX>10 and XX<210 and YY>10 and YY<210:\n",
    "        Xc.append(XX)\n",
    "        Yc.append(YY)'''\n",
    "Xc=[]\n",
    "Yc=[]\n",
    "for qw in range(0,len(AllPairs)):\n",
    "    XX = AllPairs[qw][0]\n",
    "    YY = AllPairs[qw][1]\n",
    "    Xc.append(XX)\n",
    "    Yc.append(YY)"
   ]
  },
  {
   "cell_type": "code",
   "execution_count": null,
   "metadata": {},
   "outputs": [],
   "source": [
    "dd=np.array(DataSub)\n",
    "plt.imshow(dd)\n",
    "plt.show()\n",
    "plt.imshow(dd)\n",
    "plt.scatter(Xc,Yc,color='r')\n",
    "plt.show()"
   ]
  },
  {
   "cell_type": "code",
   "execution_count": null,
   "metadata": {},
   "outputs": [],
   "source": []
  },
  {
   "cell_type": "code",
   "execution_count": null,
   "metadata": {},
   "outputs": [],
   "source": []
  },
  {
   "cell_type": "code",
   "execution_count": null,
   "metadata": {},
   "outputs": [],
   "source": []
  },
  {
   "cell_type": "code",
   "execution_count": null,
   "metadata": {},
   "outputs": [],
   "source": []
  },
  {
   "cell_type": "code",
   "execution_count": null,
   "metadata": {},
   "outputs": [],
   "source": []
  },
  {
   "cell_type": "code",
   "execution_count": null,
   "metadata": {},
   "outputs": [],
   "source": [
    "dd=np.array(DataSub-MeanFit*200)\n",
    "plt.imshow(dd)\n",
    "plt.show()"
   ]
  },
  {
   "cell_type": "code",
   "execution_count": null,
   "metadata": {},
   "outputs": [],
   "source": [
    "tt = np.array(MeanFit)\n",
    "plt.imshow(tt)\n",
    "plt.show()"
   ]
  },
  {
   "cell_type": "code",
   "execution_count": null,
   "metadata": {},
   "outputs": [],
   "source": []
  },
  {
   "cell_type": "code",
   "execution_count": null,
   "metadata": {},
   "outputs": [],
   "source": []
  }
 ],
 "metadata": {
  "kernelspec": {
   "display_name": "Python 3",
   "language": "python",
   "name": "python3"
  },
  "language_info": {
   "codemirror_mode": {
    "name": "ipython",
    "version": 3
   },
   "file_extension": ".py",
   "mimetype": "text/x-python",
   "name": "python",
   "nbconvert_exporter": "python",
   "pygments_lexer": "ipython3",
   "version": "3.7.3"
  }
 },
 "nbformat": 4,
 "nbformat_minor": 1
}
